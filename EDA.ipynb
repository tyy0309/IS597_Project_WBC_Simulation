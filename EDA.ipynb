{
 "cells": [
  {
   "cell_type": "code",
   "execution_count": 1,
   "metadata": {
    "collapsed": true
   },
   "outputs": [],
   "source": [
    "import pandas as pd\n",
    "\n",
    "pitchers_df = pd.read_csv('data/pitchers.csv')"
   ]
  },
  {
   "cell_type": "code",
   "execution_count": 13,
   "outputs": [
    {
     "name": "stdout",
     "output_type": "stream",
     "text": [
      "ERA_min: 0.0\n",
      "ERA_max: 108.0\n"
     ]
    }
   ],
   "source": [
    "ERA_min = pitchers_df['ERA'].min()\n",
    "ERA_max = pitchers_df['ERA'].max()\n",
    "\n",
    "print(\"ERA_min:\", ERA_min)\n",
    "print(\"ERA_max:\", ERA_max)"
   ],
   "metadata": {
    "collapsed": false
   }
  },
  {
   "cell_type": "code",
   "execution_count": 9,
   "outputs": [
    {
     "name": "stdout",
     "output_type": "stream",
     "text": [
      "IP_min: 0.1\n",
      "IP_max: 9.2\n"
     ]
    }
   ],
   "source": [
    "IP_min = pitchers_df['IP'].min()\n",
    "IP_max = pitchers_df['IP'].max()\n",
    "\n",
    "print(\"IP_min:\", IP_min)\n",
    "print(\"IP_max:\", IP_max)"
   ],
   "metadata": {
    "collapsed": false
   }
  },
  {
   "cell_type": "code",
   "execution_count": 8,
   "outputs": [
    {
     "name": "stdout",
     "output_type": "stream",
     "text": [
      "K_min: 0\n",
      "K_max: 13\n"
     ]
    }
   ],
   "source": [
    "K_min = pitchers_df['SO'].min()\n",
    "K_max = pitchers_df['SO'].max()\n",
    "\n",
    "print(\"K_min:\", K_min)\n",
    "print(\"K_max:\", K_max)"
   ],
   "metadata": {
    "collapsed": false
   }
  },
  {
   "cell_type": "code",
   "execution_count": 11,
   "outputs": [
    {
     "name": "stdout",
     "output_type": "stream",
     "text": [
      "WHIP_min: 0.21\n",
      "WHIP_max: 12.0\n"
     ]
    }
   ],
   "source": [
    "WHIP_min = pitchers_df['WHIP'].min()\n",
    "WHIP_max = pitchers_df['WHIP'].max()\n",
    "\n",
    "print(\"WHIP_min:\", WHIP_min)\n",
    "print(\"WHIP_max:\", WHIP_max)"
   ],
   "metadata": {
    "collapsed": false
   }
  },
  {
   "cell_type": "code",
   "execution_count": 12,
   "outputs": [
    {
     "name": "stdout",
     "output_type": "stream",
     "text": [
      "AVG_min: 0.067\n",
      "AVG_max: 0.8\n"
     ]
    }
   ],
   "source": [
    "AVG_min = pitchers_df['AVG'].min()\n",
    "AVG_max = pitchers_df['AVG'].max()\n",
    "\n",
    "print(\"AVG_min:\", AVG_min)\n",
    "print(\"AVG_max:\", AVG_max)"
   ],
   "metadata": {
    "collapsed": false
   }
  },
  {
   "cell_type": "code",
   "execution_count": 14,
   "outputs": [],
   "source": [
    "batters_df = pd.read_csv('data/batters.csv')"
   ],
   "metadata": {
    "collapsed": false
   }
  },
  {
   "cell_type": "code",
   "execution_count": 15,
   "outputs": [
    {
     "name": "stdout",
     "output_type": "stream",
     "text": [
      "AVG_b_min: 0.067\n",
      "AVG_b_max: 0.8\n"
     ]
    }
   ],
   "source": [
    "AVG_b_min = batters_df['AVG'].min()\n",
    "AVG_b_max = batters_df['AVG'].max()\n",
    "\n",
    "print(\"AVG_b_min:\", AVG_min)\n",
    "print(\"AVG_b_max:\", AVG_max)"
   ],
   "metadata": {
    "collapsed": false
   }
  },
  {
   "cell_type": "code",
   "execution_count": 16,
   "outputs": [
    {
     "name": "stdout",
     "output_type": "stream",
     "text": [
      "OPS_min: 0.0\n",
      "OPS_max: 1.507\n"
     ]
    }
   ],
   "source": [
    "OPS_min = batters_df['OPS'].min()\n",
    "OPS_max = batters_df['OPS'].max()\n",
    "\n",
    "print(\"OPS_min:\", OPS_min)\n",
    "print(\"OPS_max:\", OPS_max)"
   ],
   "metadata": {
    "collapsed": false
   }
  },
  {
   "cell_type": "code",
   "execution_count": 17,
   "outputs": [
    {
     "name": "stdout",
     "output_type": "stream",
     "text": [
      "RBI_min: 0\n",
      "RBI_max: 13\n"
     ]
    }
   ],
   "source": [
    "RBI_min = batters_df['RBI'].min()\n",
    "RBI_max = batters_df['RBI'].max()\n",
    "\n",
    "print(\"RBI_min:\", RBI_min)\n",
    "print(\"RBI_max:\", RBI_max)"
   ],
   "metadata": {
    "collapsed": false
   }
  },
  {
   "cell_type": "code",
   "execution_count": 18,
   "outputs": [
    {
     "name": "stdout",
     "output_type": "stream",
     "text": [
      "BB_min: 0\n",
      "BB_max: 10\n"
     ]
    }
   ],
   "source": [
    "BB_min = batters_df['BB'].min()\n",
    "BB_max = batters_df['BB'].max()\n",
    "\n",
    "print(\"BB_min:\", BB_min)\n",
    "print(\"BB_max:\", BB_max)"
   ],
   "metadata": {
    "collapsed": false
   }
  },
  {
   "cell_type": "code",
   "execution_count": 19,
   "outputs": [
    {
     "name": "stdout",
     "output_type": "stream",
     "text": [
      "SO_min: 0\n",
      "SO_max: 13\n"
     ]
    }
   ],
   "source": [
    "SO_min = batters_df['SO'].min()\n",
    "SO_max = batters_df['SO'].max()\n",
    "\n",
    "print(\"SO_min:\", SO_min)\n",
    "print(\"SO_max:\", SO_max)"
   ],
   "metadata": {
    "collapsed": false
   }
  },
  {
   "cell_type": "code",
   "execution_count": 20,
   "outputs": [
    {
     "name": "stdout",
     "output_type": "stream",
     "text": [
      "SB_min: 0\n",
      "SB_max: 3\n"
     ]
    }
   ],
   "source": [
    "SB_min = batters_df['SB'].min()\n",
    "SB_max = batters_df['SB'].max()\n",
    "\n",
    "print(\"SB_min:\", SB_min)\n",
    "print(\"SB_max:\", SB_max)"
   ],
   "metadata": {
    "collapsed": false
   }
  },
  {
   "cell_type": "code",
   "execution_count": null,
   "outputs": [],
   "source": [],
   "metadata": {
    "collapsed": false
   }
  }
 ],
 "metadata": {
  "kernelspec": {
   "display_name": "Python 3",
   "language": "python",
   "name": "python3"
  },
  "language_info": {
   "codemirror_mode": {
    "name": "ipython",
    "version": 2
   },
   "file_extension": ".py",
   "mimetype": "text/x-python",
   "name": "python",
   "nbconvert_exporter": "python",
   "pygments_lexer": "ipython2",
   "version": "2.7.6"
  }
 },
 "nbformat": 4,
 "nbformat_minor": 0
}
